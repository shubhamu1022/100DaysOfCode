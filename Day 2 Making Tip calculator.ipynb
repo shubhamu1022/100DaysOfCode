{
 "cells": [
  {
   "cell_type": "code",
   "execution_count": 3,
   "id": "51afb9d5",
   "metadata": {},
   "outputs": [
    {
     "name": "stdout",
     "output_type": "stream",
     "text": [
      "Enter the number: 56\n",
      "11\n"
     ]
    }
   ],
   "source": [
    "num = str(input(\"Enter the number: \"))\n",
    "print(int(num[0])+ int(num[1]))"
   ]
  },
  {
   "cell_type": "code",
   "execution_count": 14,
   "id": "1f350cfd",
   "metadata": {},
   "outputs": [
    {
     "name": "stdout",
     "output_type": "stream",
     "text": [
      "Enter your weight in KG: 56\n",
      "Enter your height in M: 1.7\n",
      "19.38\n"
     ]
    }
   ],
   "source": [
    "weight = int(input(\"Enter your weight in KG: \"))\n",
    "height = float(input(\"Enter your height in M: \"))\n",
    "print(round(weight/(height*height), 2))"
   ]
  },
  {
   "cell_type": "markdown",
   "id": "52b4dd93",
   "metadata": {},
   "source": [
    "F-string"
   ]
  },
  {
   "cell_type": "code",
   "execution_count": 22,
   "id": "53293991",
   "metadata": {},
   "outputs": [
    {
     "name": "stdout",
     "output_type": "stream",
     "text": [
      "Enter your age: 20\n",
      "You have 50 years, 600 months, 2600 weeks and 18250 days left\n"
     ]
    }
   ],
   "source": [
    "age = int(input(\"Enter your age: \"))\n",
    "death = 70\n",
    "year = death-age\n",
    "months = year*12\n",
    "weeks = year * 52\n",
    "days = year*365\n",
    "print(f\"You have {year} years, {months} months, {weeks} weeks and {days} days left\")"
   ]
  },
  {
   "cell_type": "markdown",
   "id": "fd38ac56",
   "metadata": {},
   "source": [
    "## Tip Calculator"
   ]
  },
  {
   "cell_type": "code",
   "execution_count": 45,
   "id": "0eceef8f",
   "metadata": {},
   "outputs": [
    {
     "name": "stdout",
     "output_type": "stream",
     "text": [
      "!!!  Welcome To Tip Calculator  !!!\n",
      "Enter your total bill: $150\n",
      "Enter the percentage of bill you want to tip? 15, 20 or any other? 12\n",
      "How many people to split the bill? 5\n",
      "Each person should pay $33.60\n"
     ]
    }
   ],
   "source": [
    "print(\"!!!  Welcome To Tip Calculator  !!!\")\n",
    "total_bill = float(input(\"Enter your total bill: $\"))\n",
    "percentage = int(input(\"Enter the percentage of bill you want to tip? 15, 20 or any other? \"))\n",
    "no_of_people = int(input(\"How many people to split the bill? \"))\n",
    "tip = (total_bill*(percentage/100))/no_of_people\n",
    "pay = \"{:.2f}\".format(total_bill/no_of_people + tip)\n",
    "print(f\"Each person should pay ${pay}\")"
   ]
  }
 ],
 "metadata": {
  "kernelspec": {
   "display_name": "Python 3",
   "language": "python",
   "name": "python3"
  },
  "language_info": {
   "codemirror_mode": {
    "name": "ipython",
    "version": 3
   },
   "file_extension": ".py",
   "mimetype": "text/x-python",
   "name": "python",
   "nbconvert_exporter": "python",
   "pygments_lexer": "ipython3",
   "version": "3.8.8"
  }
 },
 "nbformat": 4,
 "nbformat_minor": 5
}
