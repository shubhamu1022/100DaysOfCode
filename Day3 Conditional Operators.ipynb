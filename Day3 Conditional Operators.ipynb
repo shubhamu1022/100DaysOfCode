{
 "cells": [
  {
   "cell_type": "code",
   "execution_count": 5,
   "id": "7ba74c1e",
   "metadata": {},
   "outputs": [
    {
     "name": "stdout",
     "output_type": "stream",
     "text": [
      "Enter your height in m: 1.76\n",
      "Enter your weight in Kgs: 65\n",
      "20.98\n",
      "You are Normal Weight\n"
     ]
    }
   ],
   "source": [
    "height = float(input(\"Enter your height in m: \"))\n",
    "weight = float(input(\"Enter your weight in Kgs: \"))\n",
    "BMI = weight/(height**2)\n",
    "print(round(BMI, 2))\n",
    "if BMI < 18.5:\n",
    "    print(\"You are Underweight!\")\n",
    "elif 18.5 < BMI < 25:\n",
    "    print(\"You are Normal Weight\")\n",
    "else: \n",
    "    print(\"You are overweight\")"
   ]
  },
  {
   "cell_type": "markdown",
   "id": "0a16b3e0",
   "metadata": {},
   "source": [
    "### Leap Year"
   ]
  },
  {
   "cell_type": "code",
   "execution_count": 32,
   "id": "f3e01334",
   "metadata": {},
   "outputs": [
    {
     "name": "stdout",
     "output_type": "stream",
     "text": [
      "Enter the year: 1920\n",
      "It's a Leap Year\n"
     ]
    }
   ],
   "source": [
    "year = int(input(\"Enter the year: \"))\n",
    "if year%4 == 0:\n",
    "    if year%100 != 0  & year%400 ==0:\n",
    "        print(\"It's a Leap Year\")\n",
    "    else:\n",
    "        print(\"Not a Leap Year\")\n",
    "else:\n",
    "    print(\"Not a Leap Year\")"
   ]
  },
  {
   "cell_type": "markdown",
   "id": "00f10db3",
   "metadata": {},
   "source": [
    "### Pizza Delivery"
   ]
  },
  {
   "cell_type": "code",
   "execution_count": 36,
   "id": "459d14b5",
   "metadata": {},
   "outputs": [
    {
     "name": "stdout",
     "output_type": "stream",
     "text": [
      "Welcome to Pizzeria!\n",
      "Enter the size of pizza you want? S, M, L? S\n",
      "Do you want peperoni? Y or N? y\n",
      "Do you want extracheesse? Y or N? y\n",
      "Your total bill is 18\n"
     ]
    }
   ],
   "source": [
    "print(\"Welcome to Pizzeria!\")\n",
    "size = input(\"Enter the size of pizza you want? S, M, L? \")\n",
    "add_pepperoni = input(\"Do you want peperoni? Y or N? \")\n",
    "extra_cheese = input(\"Do you want extracheesse? Y or N? \")\n",
    "if size.upper() == \"S\":\n",
    "    bill = 15\n",
    "    if add_pepperoni.upper() == \"Y\":\n",
    "        bill += 2\n",
    "    if extra_cheese.upper() == \"Y\":\n",
    "        bill += 1\n",
    "if size.upper() == \"M\":\n",
    "    bill = 20\n",
    "    if add_pepperoni.upper() == \"Y\":\n",
    "        bill += 3\n",
    "    if extra_cheese.upper() == \"Y\":\n",
    "        bill += 1\n",
    "if size.upper() == \"L\":\n",
    "    bill = 25\n",
    "    if add_pepperoni.upper() == \"Y\":\n",
    "        bill += 3\n",
    "    if extra_cheese.upper() == \"Y\":\n",
    "        bill += 1\n",
    "print(f\"Your total bill is {bill}\")"
   ]
  },
  {
   "cell_type": "markdown",
   "id": "4f6aaeec",
   "metadata": {},
   "source": [
    "## Love Calculator"
   ]
  },
  {
   "cell_type": "code",
   "execution_count": 41,
   "id": "c93d36b8",
   "metadata": {},
   "outputs": [
    {
     "name": "stdout",
     "output_type": "stream",
     "text": [
      "Enter the name of first person: Kanye West\n",
      "Enter the name of second person: Kim Kardashian\n",
      "Your love score is 42%\n"
     ]
    }
   ],
   "source": [
    "name1 = input(\"Enter the name of first person: \")\n",
    "name2 = input(\"Enter the name of second person: \")\n",
    "true = 0\n",
    "love = 0\n",
    "for i in name1.upper(): \n",
    "    if i == 'T' or i == 'R' or i == 'U' or i == 'E':\n",
    "        true += 1\n",
    "    if i == 'l' or i == 'O' or i == 'V' or i == 'E':\n",
    "        love +=1\n",
    "for i in name2.upper(): \n",
    "    if i == 'T' or i == 'R' or i == 'U' or i == 'E':\n",
    "        true += 1\n",
    "    if i == 'l' or i == 'O' or i == 'V' or i == 'E':\n",
    "        love +=1\n",
    "print(f\"Your love score is {true}{love}%\")"
   ]
  },
  {
   "cell_type": "markdown",
   "id": "b61b194b",
   "metadata": {},
   "source": [
    "## Treasure Hunt"
   ]
  },
  {
   "cell_type": "code",
   "execution_count": 50,
   "id": "85b3b58b",
   "metadata": {},
   "outputs": [
    {
     "name": "stdout",
     "output_type": "stream",
     "text": [
      "!!! Welcom to the Treasure Hunt !!!\n",
      "You have two options, either to go from desert or go through jungle? which one will you choose? D or J? d\n",
      "You see a lake in front of you, will you drink the water or continue moving? D or M? d\n",
      "There is a pallance and a big mountain in front of you? Where will you go? P or M? m\n",
      "The mountain was a trap and you got trapped inside it :/\n"
     ]
    }
   ],
   "source": [
    "print(\"!!! Welcom to the Treasure Hunt !!!\")\n",
    "path = input(\"You have two options, either to go from desert or go through jungle? which one will you choose? D or J? \")\n",
    "if path.upper() == 'D':\n",
    "    lake = input(\"You see a lake in front of you, will you drink the water or continue moving? D or M? \")\n",
    "    if lake.upper() == 'D':\n",
    "        choice = input(\"There is a pallance and a big mountain in front of you? Where will you go? P or M? \")\n",
    "        if choice.upper() == 'P':\n",
    "                box = input(\"When you enter the palace, you see three boxes. Red, Blue and Yellow? which one will you choose? \")\n",
    "                if box.upper() == 'B':\n",
    "                    print(\"Congratulations, you found the mystrey box full of GOLD COINS!!!!\")\n",
    "                elif box.upper() == 'R':\n",
    "                    print(\"You were burned by the fire trap inside the box, GAME OVER!!\")\n",
    "                else:\n",
    "                    print(\"The box was full of arrows and you died :/\")\n",
    "        else:\n",
    "            print(\"The mountain was a trap and you got trapped inside it :/\")\n",
    "    else: \n",
    "        print(\"You were dehydrated and couldn't complete the journey\")\n",
    "else:\n",
    "    print(\"You got lost in the jungle and couldn't find the way back :/\")"
   ]
  }
 ],
 "metadata": {
  "kernelspec": {
   "display_name": "Python 3",
   "language": "python",
   "name": "python3"
  },
  "language_info": {
   "codemirror_mode": {
    "name": "ipython",
    "version": 3
   },
   "file_extension": ".py",
   "mimetype": "text/x-python",
   "name": "python",
   "nbconvert_exporter": "python",
   "pygments_lexer": "ipython3",
   "version": "3.8.8"
  }
 },
 "nbformat": 4,
 "nbformat_minor": 5
}
