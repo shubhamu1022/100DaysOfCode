{
 "cells": [
  {
   "cell_type": "code",
   "execution_count": 1,
   "id": "793b811e",
   "metadata": {},
   "outputs": [
    {
     "name": "stdout",
     "output_type": "stream",
     "text": [
      "This is for GitHub\n"
     ]
    }
   ],
   "source": [
    "print(\"This is for GitHub\")"
   ]
  },
  {
   "cell_type": "code",
   "execution_count": 2,
   "id": "e338f7c9",
   "metadata": {},
   "outputs": [
    {
     "data": {
      "text/plain": [
       "30"
      ]
     },
     "execution_count": 2,
     "metadata": {},
     "output_type": "execute_result"
    }
   ],
   "source": [
    "a = 10\n",
    "b = 20\n",
    "a+b "
   ]
  },
  {
   "cell_type": "code",
   "execution_count": 1,
   "id": "7516a8d5",
   "metadata": {},
   "outputs": [
    {
     "name": "stdout",
     "output_type": "stream",
     "text": [
      "Hello World \n",
      "Hello World \n",
      "Hello World \n",
      "Hello World \n",
      "\n"
     ]
    }
   ],
   "source": [
    "print(\"Hello World \\n\"*4)"
   ]
  },
  {
   "cell_type": "code",
   "execution_count": 4,
   "id": "ec02d441",
   "metadata": {},
   "outputs": [
    {
     "name": "stdout",
     "output_type": "stream",
     "text": [
      "Hello Shubham!\n"
     ]
    }
   ],
   "source": [
    "print(\"Hello\" + \" \" + \"Shubham!\")"
   ]
  },
  {
   "cell_type": "code",
   "execution_count": 6,
   "id": "9dd9c03b",
   "metadata": {},
   "outputs": [
    {
     "name": "stdout",
     "output_type": "stream",
     "text": [
      "Enter your name: Shubham\n",
      "7\n"
     ]
    }
   ],
   "source": [
    "name = str(input(\"Enter your name: \"))\n",
    "print(len(name))"
   ]
  },
  {
   "cell_type": "code",
   "execution_count": 8,
   "id": "2b4dc2e6",
   "metadata": {},
   "outputs": [
    {
     "name": "stdout",
     "output_type": "stream",
     "text": [
      "!!! Welcome to Band Name Generator !!!\n",
      "What's the city you grew up in?\n",
      "Mumbai\n",
      "What is the name of your pet?\n",
      "Tiger\n",
      "Mumbai Tiger\n"
     ]
    }
   ],
   "source": [
    "# Band Name Generator\n",
    "print(\"!!! Welcome to Band Name Generator !!!\")\n",
    "city = str(input(\"What's the city you grew up in?\\n\"))\n",
    "pet = str(input(\"What is the name of your pet?\\n\"))\n",
    "print(city + \" \" + pet)"
   ]
  },
  {
   "cell_type": "code",
   "execution_count": null,
   "id": "6ae17b67",
   "metadata": {},
   "outputs": [],
   "source": []
  }
 ],
 "metadata": {
  "kernelspec": {
   "display_name": "Python 3",
   "language": "python",
   "name": "python3"
  },
  "language_info": {
   "codemirror_mode": {
    "name": "ipython",
    "version": 3
   },
   "file_extension": ".py",
   "mimetype": "text/x-python",
   "name": "python",
   "nbconvert_exporter": "python",
   "pygments_lexer": "ipython3",
   "version": "3.8.8"
  }
 },
 "nbformat": 4,
 "nbformat_minor": 5
}
